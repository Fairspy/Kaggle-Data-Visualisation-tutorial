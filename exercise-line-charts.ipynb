{
 "cells": [
  {
   "cell_type": "markdown",
   "id": "845a9b0b",
   "metadata": {
    "papermill": {
     "duration": 0.00584,
     "end_time": "2022-06-24T16:00:40.837608",
     "exception": false,
     "start_time": "2022-06-24T16:00:40.831768",
     "status": "completed"
    },
    "tags": []
   },
   "source": [
    "**This notebook is an exercise in the [Data Visualization](https://www.kaggle.com/learn/data-visualization) course.  You can reference the tutorial at [this link](https://www.kaggle.com/alexisbcook/line-charts).**\n",
    "\n",
    "---\n"
   ]
  },
  {
   "cell_type": "markdown",
   "id": "93fa63cc",
   "metadata": {
    "papermill": {
     "duration": 0.004551,
     "end_time": "2022-06-24T16:00:40.847518",
     "exception": false,
     "start_time": "2022-06-24T16:00:40.842967",
     "status": "completed"
    },
    "tags": []
   },
   "source": [
    "In this exercise, you will use your new knowledge to propose a solution to a real-world scenario. To succeed, you will need to import data into Python, answer questions using the data, and generate **line charts** to understand patterns in the data.\n",
    "\n",
    "## Scenario\n",
    "\n",
    "You have recently been hired to manage the museums in the City of Los Angeles. Your first project focuses on the four museums pictured in the images below.\n",
    "\n",
    "![ex1_museums](https://i.imgur.com/pFYL8J1.png)\n",
    "\n",
    "You will leverage data from the Los Angeles [Data Portal](https://data.lacity.org/) that tracks monthly visitors to each museum.  \n",
    "\n",
    "![ex1_xlsx](https://i.imgur.com/mGWYlym.png)\n",
    "\n",
    "## Setup\n",
    "\n",
    "Run the next cell to import and configure the Python libraries that you need to complete the exercise."
   ]
  },
  {
   "cell_type": "code",
   "execution_count": 1,
   "id": "433e4c2c",
   "metadata": {
    "execution": {
     "iopub.execute_input": "2022-06-24T16:00:40.859282Z",
     "iopub.status.busy": "2022-06-24T16:00:40.858768Z",
     "iopub.status.idle": "2022-06-24T16:00:42.103153Z",
     "shell.execute_reply": "2022-06-24T16:00:42.100797Z"
    },
    "papermill": {
     "duration": 1.254278,
     "end_time": "2022-06-24T16:00:42.106682",
     "exception": false,
     "start_time": "2022-06-24T16:00:40.852404",
     "status": "completed"
    },
    "tags": []
   },
   "outputs": [
    {
     "name": "stdout",
     "output_type": "stream",
     "text": [
      "Setup Complete\n"
     ]
    }
   ],
   "source": [
    "import pandas as pd\n",
    "pd.plotting.register_matplotlib_converters()\n",
    "import matplotlib.pyplot as plt\n",
    "%matplotlib inline\n",
    "import seaborn as sns\n",
    "print(\"Setup Complete\")"
   ]
  },
  {
   "cell_type": "markdown",
   "id": "0eae0906",
   "metadata": {
    "papermill": {
     "duration": 0.005105,
     "end_time": "2022-06-24T16:00:42.116939",
     "exception": false,
     "start_time": "2022-06-24T16:00:42.111834",
     "status": "completed"
    },
    "tags": []
   },
   "source": [
    "The questions below will give you feedback on your work. Run the following cell to set up the feedback system."
   ]
  },
  {
   "cell_type": "code",
   "execution_count": 2,
   "id": "93ced709",
   "metadata": {
    "execution": {
     "iopub.execute_input": "2022-06-24T16:00:42.128449Z",
     "iopub.status.busy": "2022-06-24T16:00:42.127774Z",
     "iopub.status.idle": "2022-06-24T16:00:42.207282Z",
     "shell.execute_reply": "2022-06-24T16:00:42.205766Z"
    },
    "papermill": {
     "duration": 0.087924,
     "end_time": "2022-06-24T16:00:42.209875",
     "exception": false,
     "start_time": "2022-06-24T16:00:42.121951",
     "status": "completed"
    },
    "tags": []
   },
   "outputs": [
    {
     "name": "stdout",
     "output_type": "stream",
     "text": [
      "Setup Complete\n"
     ]
    }
   ],
   "source": [
    "# Set up code checking\n",
    "import os\n",
    "if not os.path.exists(\"../input/museum_visitors.csv\"):\n",
    "    os.symlink(\"../input/data-for-datavis/museum_visitors.csv\", \"../input/museum_visitors.csv\") \n",
    "from learntools.core import binder\n",
    "binder.bind(globals())\n",
    "from learntools.data_viz_to_coder.ex2 import *\n",
    "print(\"Setup Complete\")"
   ]
  },
  {
   "cell_type": "markdown",
   "id": "4eec8ba6",
   "metadata": {
    "papermill": {
     "duration": 0.004272,
     "end_time": "2022-06-24T16:00:42.218965",
     "exception": false,
     "start_time": "2022-06-24T16:00:42.214693",
     "status": "completed"
    },
    "tags": []
   },
   "source": [
    "## Step 1: Load the data\n",
    "\n",
    "Your first assignment is to read the LA Museum Visitors data file into `museum_data`.  Note that:\n",
    "- The filepath to the dataset is stored as `museum_filepath`.  Please **do not** change the provided value of the filepath.\n",
    "- The name of the column to use as row labels is `\"Date\"`.  (This can be seen in cell A1 when the file is opened in Excel.)\n",
    "\n",
    "To help with this, you may find it useful to revisit some relevant code from the tutorial, which we have pasted below:\n",
    "\n",
    "```python\n",
    "# Path of the file to read\n",
    "spotify_filepath = \"../input/spotify.csv\"\n",
    "\n",
    "# Read the file into a variable spotify_data\n",
    "spotify_data = pd.read_csv(spotify_filepath, index_col=\"Date\", parse_dates=True)\n",
    "```\n",
    "\n",
    "The code you need to write now looks very similar!"
   ]
  },
  {
   "cell_type": "code",
   "execution_count": 3,
   "id": "307f1364",
   "metadata": {
    "execution": {
     "iopub.execute_input": "2022-06-24T16:00:42.230267Z",
     "iopub.status.busy": "2022-06-24T16:00:42.229772Z",
     "iopub.status.idle": "2022-06-24T16:00:42.246648Z",
     "shell.execute_reply": "2022-06-24T16:00:42.245627Z"
    },
    "papermill": {
     "duration": 0.025072,
     "end_time": "2022-06-24T16:00:42.248699",
     "exception": false,
     "start_time": "2022-06-24T16:00:42.223627",
     "status": "completed"
    },
    "tags": []
   },
   "outputs": [
    {
     "data": {
      "application/javascript": [
       "parent.postMessage({\"jupyterEvent\": \"custom.exercise_interaction\", \"data\": {\"outcomeType\": 1, \"valueTowardsCompletion\": 0.3333333333333333, \"interactionType\": 1, \"questionType\": 1, \"questionId\": \"1_LoadMuseumData\", \"learnToolsVersion\": \"0.3.4\", \"failureMessage\": \"\", \"exceptionClass\": \"\", \"trace\": \"\"}}, \"*\")"
      ],
      "text/plain": [
       "<IPython.core.display.Javascript object>"
      ]
     },
     "metadata": {},
     "output_type": "display_data"
    },
    {
     "data": {
      "text/markdown": [
       "<span style=\"color:#33cc33\">Correct</span>"
      ],
      "text/plain": [
       "Correct"
      ]
     },
     "metadata": {},
     "output_type": "display_data"
    }
   ],
   "source": [
    "# Path of the file to read\n",
    "museum_filepath = \"../input/museum_visitors.csv\"\n",
    "\n",
    "# Fill in the line below to read the file into a variable museum_data\n",
    "museum_data = pd.read_csv(museum_filepath, index_col = \"Date\", parse_dates = True)\n",
    "\n",
    "# Run the line below with no changes to check that you've loaded the data correctly\n",
    "step_1.check()"
   ]
  },
  {
   "cell_type": "code",
   "execution_count": 4,
   "id": "0867cd35",
   "metadata": {
    "execution": {
     "iopub.execute_input": "2022-06-24T16:00:42.259863Z",
     "iopub.status.busy": "2022-06-24T16:00:42.259465Z",
     "iopub.status.idle": "2022-06-24T16:00:42.263618Z",
     "shell.execute_reply": "2022-06-24T16:00:42.262734Z"
    },
    "papermill": {
     "duration": 0.012477,
     "end_time": "2022-06-24T16:00:42.265898",
     "exception": false,
     "start_time": "2022-06-24T16:00:42.253421",
     "status": "completed"
    },
    "tags": []
   },
   "outputs": [],
   "source": [
    "# Uncomment the line below to receive a hint\n",
    "#step_1.hint()\n",
    "# Uncomment the line below to see the solution\n",
    "#step_1.solution()"
   ]
  },
  {
   "cell_type": "markdown",
   "id": "7d4149c1",
   "metadata": {
    "papermill": {
     "duration": 0.004668,
     "end_time": "2022-06-24T16:00:42.275901",
     "exception": false,
     "start_time": "2022-06-24T16:00:42.271233",
     "status": "completed"
    },
    "tags": []
   },
   "source": [
    "## Step 2: Review the data\n",
    "\n",
    "Use a Python command to print the last 5 rows of the data."
   ]
  },
  {
   "cell_type": "code",
   "execution_count": 5,
   "id": "9c8a843f",
   "metadata": {
    "execution": {
     "iopub.execute_input": "2022-06-24T16:00:42.287298Z",
     "iopub.status.busy": "2022-06-24T16:00:42.286723Z",
     "iopub.status.idle": "2022-06-24T16:00:42.300817Z",
     "shell.execute_reply": "2022-06-24T16:00:42.300110Z"
    },
    "papermill": {
     "duration": 0.022016,
     "end_time": "2022-06-24T16:00:42.302883",
     "exception": false,
     "start_time": "2022-06-24T16:00:42.280867",
     "status": "completed"
    },
    "tags": []
   },
   "outputs": [
    {
     "data": {
      "text/html": [
       "<div>\n",
       "<style scoped>\n",
       "    .dataframe tbody tr th:only-of-type {\n",
       "        vertical-align: middle;\n",
       "    }\n",
       "\n",
       "    .dataframe tbody tr th {\n",
       "        vertical-align: top;\n",
       "    }\n",
       "\n",
       "    .dataframe thead th {\n",
       "        text-align: right;\n",
       "    }\n",
       "</style>\n",
       "<table border=\"1\" class=\"dataframe\">\n",
       "  <thead>\n",
       "    <tr style=\"text-align: right;\">\n",
       "      <th></th>\n",
       "      <th>Avila Adobe</th>\n",
       "      <th>Firehouse Museum</th>\n",
       "      <th>Chinese American Museum</th>\n",
       "      <th>America Tropical Interpretive Center</th>\n",
       "    </tr>\n",
       "    <tr>\n",
       "      <th>Date</th>\n",
       "      <th></th>\n",
       "      <th></th>\n",
       "      <th></th>\n",
       "      <th></th>\n",
       "    </tr>\n",
       "  </thead>\n",
       "  <tbody>\n",
       "    <tr>\n",
       "      <th>2018-07-01</th>\n",
       "      <td>23136</td>\n",
       "      <td>4191</td>\n",
       "      <td>2620</td>\n",
       "      <td>4718</td>\n",
       "    </tr>\n",
       "    <tr>\n",
       "      <th>2018-08-01</th>\n",
       "      <td>20815</td>\n",
       "      <td>4866</td>\n",
       "      <td>2409</td>\n",
       "      <td>3891</td>\n",
       "    </tr>\n",
       "    <tr>\n",
       "      <th>2018-09-01</th>\n",
       "      <td>21020</td>\n",
       "      <td>4956</td>\n",
       "      <td>2146</td>\n",
       "      <td>3180</td>\n",
       "    </tr>\n",
       "    <tr>\n",
       "      <th>2018-10-01</th>\n",
       "      <td>19280</td>\n",
       "      <td>4622</td>\n",
       "      <td>2364</td>\n",
       "      <td>3775</td>\n",
       "    </tr>\n",
       "    <tr>\n",
       "      <th>2018-11-01</th>\n",
       "      <td>17163</td>\n",
       "      <td>4082</td>\n",
       "      <td>2385</td>\n",
       "      <td>4562</td>\n",
       "    </tr>\n",
       "  </tbody>\n",
       "</table>\n",
       "</div>"
      ],
      "text/plain": [
       "            Avila Adobe  Firehouse Museum  Chinese American Museum  \\\n",
       "Date                                                                 \n",
       "2018-07-01        23136              4191                     2620   \n",
       "2018-08-01        20815              4866                     2409   \n",
       "2018-09-01        21020              4956                     2146   \n",
       "2018-10-01        19280              4622                     2364   \n",
       "2018-11-01        17163              4082                     2385   \n",
       "\n",
       "            America Tropical Interpretive Center  \n",
       "Date                                              \n",
       "2018-07-01                                  4718  \n",
       "2018-08-01                                  3891  \n",
       "2018-09-01                                  3180  \n",
       "2018-10-01                                  3775  \n",
       "2018-11-01                                  4562  "
      ]
     },
     "execution_count": 5,
     "metadata": {},
     "output_type": "execute_result"
    }
   ],
   "source": [
    "# Print the last five rows of the data \n",
    "museum_data.tail()# Your code here"
   ]
  },
  {
   "cell_type": "markdown",
   "id": "4362a768",
   "metadata": {
    "papermill": {
     "duration": 0.004739,
     "end_time": "2022-06-24T16:00:42.312939",
     "exception": false,
     "start_time": "2022-06-24T16:00:42.308200",
     "status": "completed"
    },
    "tags": []
   },
   "source": [
    "The last row (for `2018-11-01`) tracks the number of visitors to each museum in November 2018, the next-to-last row (for `2018-10-01`) tracks the number of visitors to each museum in October 2018, _and so on_.\n",
    "\n",
    "Use the last 5 rows of the data to answer the questions below."
   ]
  },
  {
   "cell_type": "code",
   "execution_count": 6,
   "id": "360b7ee6",
   "metadata": {
    "execution": {
     "iopub.execute_input": "2022-06-24T16:00:42.325607Z",
     "iopub.status.busy": "2022-06-24T16:00:42.325014Z",
     "iopub.status.idle": "2022-06-24T16:00:42.335291Z",
     "shell.execute_reply": "2022-06-24T16:00:42.334241Z"
    },
    "papermill": {
     "duration": 0.018836,
     "end_time": "2022-06-24T16:00:42.337492",
     "exception": false,
     "start_time": "2022-06-24T16:00:42.318656",
     "status": "completed"
    },
    "tags": []
   },
   "outputs": [
    {
     "data": {
      "application/javascript": [
       "parent.postMessage({\"jupyterEvent\": \"custom.exercise_interaction\", \"data\": {\"outcomeType\": 1, \"valueTowardsCompletion\": 0.3333333333333333, \"interactionType\": 1, \"questionType\": 1, \"questionId\": \"2_ReviewData\", \"learnToolsVersion\": \"0.3.4\", \"failureMessage\": \"\", \"exceptionClass\": \"\", \"trace\": \"\"}}, \"*\")"
      ],
      "text/plain": [
       "<IPython.core.display.Javascript object>"
      ]
     },
     "metadata": {},
     "output_type": "display_data"
    },
    {
     "data": {
      "text/markdown": [
       "<span style=\"color:#33cc33\">Correct</span>"
      ],
      "text/plain": [
       "Correct"
      ]
     },
     "metadata": {},
     "output_type": "display_data"
    }
   ],
   "source": [
    "# Fill in the line below: How many visitors did the Chinese American Museum \n",
    "# receive in July 2018?\n",
    "ca_museum_jul18 = 2620 \n",
    "\n",
    "# Fill in the line below: In October 2018, how many more visitors did Avila \n",
    "# Adobe receive than the Firehouse Museum?\n",
    "avila_oct18 = 19280 - 4622\n",
    "\n",
    "# Check your answers\n",
    "step_2.check()"
   ]
  },
  {
   "cell_type": "code",
   "execution_count": 7,
   "id": "1caf81c5",
   "metadata": {
    "execution": {
     "iopub.execute_input": "2022-06-24T16:00:42.349805Z",
     "iopub.status.busy": "2022-06-24T16:00:42.349409Z",
     "iopub.status.idle": "2022-06-24T16:00:42.354006Z",
     "shell.execute_reply": "2022-06-24T16:00:42.352884Z"
    },
    "papermill": {
     "duration": 0.01331,
     "end_time": "2022-06-24T16:00:42.356222",
     "exception": false,
     "start_time": "2022-06-24T16:00:42.342912",
     "status": "completed"
    },
    "tags": []
   },
   "outputs": [],
   "source": [
    "# Lines below will give you a hint or solution code\n",
    "#step_2.hint()\n",
    "#step_2.solution()"
   ]
  },
  {
   "cell_type": "markdown",
   "id": "275bb03c",
   "metadata": {
    "papermill": {
     "duration": 0.004985,
     "end_time": "2022-06-24T16:00:42.366599",
     "exception": false,
     "start_time": "2022-06-24T16:00:42.361614",
     "status": "completed"
    },
    "tags": []
   },
   "source": [
    "## Step 3: Convince the museum board \n",
    "\n",
    "The Firehouse Museum claims they ran an event in 2014 that brought an incredible number of visitors, and that they should get extra budget to run a similar event again.  The other museums think these types of events aren't that important, and budgets should be split purely based on recent visitors on an average day.  \n",
    "\n",
    "To show the museum board how the event compared to regular traffic at each museum, create a line chart that shows how the number of visitors to each museum evolved over time.  Your figure should have four lines (one for each museum).\n",
    "\n",
    "> **(Optional) Note**: If you have some prior experience with plotting figures in Python, you might be familiar with the `plt.show()` command.  If you decide to use this command, please place it **after** the line of code that checks your answer (in this case, place it after `step_3.check()` below) -- otherwise, the checking code will return an error!"
   ]
  },
  {
   "cell_type": "code",
   "execution_count": 8,
   "id": "780ce37d",
   "metadata": {
    "execution": {
     "iopub.execute_input": "2022-06-24T16:00:42.378851Z",
     "iopub.status.busy": "2022-06-24T16:00:42.378469Z",
     "iopub.status.idle": "2022-06-24T16:00:42.752593Z",
     "shell.execute_reply": "2022-06-24T16:00:42.751436Z"
    },
    "papermill": {
     "duration": 0.383064,
     "end_time": "2022-06-24T16:00:42.754882",
     "exception": false,
     "start_time": "2022-06-24T16:00:42.371818",
     "status": "completed"
    },
    "tags": []
   },
   "outputs": [
    {
     "data": {
      "application/javascript": [
       "parent.postMessage({\"jupyterEvent\": \"custom.exercise_interaction\", \"data\": {\"outcomeType\": 1, \"valueTowardsCompletion\": 0.3333333333333333, \"interactionType\": 1, \"questionType\": 2, \"questionId\": \"3_PlotAll\", \"learnToolsVersion\": \"0.3.4\", \"failureMessage\": \"\", \"exceptionClass\": \"\", \"trace\": \"\"}}, \"*\")"
      ],
      "text/plain": [
       "<IPython.core.display.Javascript object>"
      ]
     },
     "metadata": {},
     "output_type": "display_data"
    },
    {
     "data": {
      "text/markdown": [
       "<span style=\"color:#33cc33\">Correct</span>"
      ],
      "text/plain": [
       "Correct"
      ]
     },
     "metadata": {},
     "output_type": "display_data"
    },
    {
     "data": {
      "image/png": "[encoded data removed]",
      "text/plain": [
       "<Figure size 432x288 with 1 Axes>"
      ]
     },
     "metadata": {
      "needs_background": "light"
     },
     "output_type": "display_data"
    }
   ],
   "source": [
    "# Line chart showing the number of visitors to each museum over time\n",
    "sns.lineplot(data = museum_data) # Your code here\n",
    "\n",
    "# Check your answer\n",
    "step_3.check()"
   ]
  },
  {
   "cell_type": "code",
   "execution_count": 9,
   "id": "d75cec90",
   "metadata": {
    "execution": {
     "iopub.execute_input": "2022-06-24T16:00:42.770694Z",
     "iopub.status.busy": "2022-06-24T16:00:42.770269Z",
     "iopub.status.idle": "2022-06-24T16:00:42.776394Z",
     "shell.execute_reply": "2022-06-24T16:00:42.775193Z"
    },
    "papermill": {
     "duration": 0.017182,
     "end_time": "2022-06-24T16:00:42.779069",
     "exception": false,
     "start_time": "2022-06-24T16:00:42.761887",
     "status": "completed"
    },
    "tags": []
   },
   "outputs": [],
   "source": [
    "# Lines below will give you a hint or solution code\n",
    "#step_3.hint()\n",
    "#step_3.solution_plot()"
   ]
  },
  {
   "cell_type": "markdown",
   "id": "124f4bcc",
   "metadata": {
    "papermill": {
     "duration": 0.00603,
     "end_time": "2022-06-24T16:00:42.791436",
     "exception": false,
     "start_time": "2022-06-24T16:00:42.785406",
     "status": "completed"
    },
    "tags": []
   },
   "source": [
    "## Step 4: Assess seasonality\n",
    "\n",
    "When meeting with the employees at Avila Adobe, you hear that one major pain point is that the number of museum visitors varies greatly with the seasons, with low seasons (when the employees are perfectly staffed and happy) and also high seasons (when the employees are understaffed and stressed).  You realize that if you can predict these high and low seasons, you can plan ahead to hire some additional seasonal employees to help out with the extra work.\n",
    "\n",
    "#### Part A\n",
    "Create a line chart that shows how the number of visitors to Avila Adobe has evolved over time.  (_If your code returns an error, the first thing that you should check is that you've spelled the name of the column correctly!  You must write the name of the column exactly as it appears in the dataset._)"
   ]
  },
  {
   "cell_type": "code",
   "execution_count": 10,
   "id": "d52cba54",
   "metadata": {
    "execution": {
     "iopub.execute_input": "2022-06-24T16:00:42.806549Z",
     "iopub.status.busy": "2022-06-24T16:00:42.805472Z",
     "iopub.status.idle": "2022-06-24T16:00:43.058892Z",
     "shell.execute_reply": "2022-06-24T16:00:43.057534Z"
    },
    "papermill": {
     "duration": 0.263649,
     "end_time": "2022-06-24T16:00:43.061418",
     "exception": false,
     "start_time": "2022-06-24T16:00:42.797769",
     "status": "completed"
    },
    "tags": []
   },
   "outputs": [
    {
     "name": "stdout",
     "output_type": "stream",
     "text": [
      "Thank you for creating a line chart!  To see how your code compares to the official solution, please use the code cell below.\n"
     ]
    },
    {
     "data": {
      "application/javascript": [
       "parent.postMessage({\"jupyterEvent\": \"custom.exercise_interaction\", \"data\": {\"outcomeType\": 1, \"valueTowardsCompletion\": 0.3333333333333333, \"interactionType\": 1, \"questionType\": 2, \"questionId\": \"4.1_PlotAvila\", \"learnToolsVersion\": \"0.3.4\", \"failureMessage\": \"\", \"exceptionClass\": \"\", \"trace\": \"\"}}, \"*\")"
      ],
      "text/plain": [
       "<IPython.core.display.Javascript object>"
      ]
     },
     "metadata": {},
     "output_type": "display_data"
    },
    {
     "data": {
      "text/markdown": [
       "<span style=\"color:#33cc33\">Correct</span>"
      ],
      "text/plain": [
       "Correct"
      ]
     },
     "metadata": {},
     "output_type": "display_data"
    },
    {
     "data": {
      "image/png": "[encoded data removed]",
      "text/plain": [
       "<Figure size 1008x432 with 1 Axes>"
      ]
     },
     "metadata": {
      "needs_background": "light"
     },
     "output_type": "display_data"
    }
   ],
   "source": [
    "# Line plot showing the number of visitors to Avila Adobe over time\n",
    "plt.figure(figsize =(14,6))\n",
    "plt.title(\"Vistors to Avila Adobe\")\n",
    "sns.lineplot(data=museum_data['Avila Adobe'])\n",
    "plt.xlabel(\"Date\")# Your code here\n",
    "\n",
    "# Check your answer\n",
    "step_4.a.check()"
   ]
  },
  {
   "cell_type": "code",
   "execution_count": 11,
   "id": "23208406",
   "metadata": {
    "execution": {
     "iopub.execute_input": "2022-06-24T16:00:43.079323Z",
     "iopub.status.busy": "2022-06-24T16:00:43.078344Z",
     "iopub.status.idle": "2022-06-24T16:00:43.317860Z",
     "shell.execute_reply": "2022-06-24T16:00:43.316781Z"
    },
    "papermill": {
     "duration": 0.250781,
     "end_time": "2022-06-24T16:00:43.320228",
     "exception": false,
     "start_time": "2022-06-24T16:00:43.069447",
     "status": "completed"
    },
    "tags": []
   },
   "outputs": [
    {
     "data": {
      "application/javascript": [
       "parent.postMessage({\"jupyterEvent\": \"custom.exercise_interaction\", \"data\": {\"interactionType\": 3, \"questionType\": 2, \"questionId\": \"4.1_PlotAvila\", \"learnToolsVersion\": \"0.3.4\", \"valueTowardsCompletion\": 0.0, \"failureMessage\": \"\", \"exceptionClass\": \"\", \"trace\": \"\", \"outcomeType\": 4}}, \"*\")"
      ],
      "text/plain": [
       "<IPython.core.display.Javascript object>"
      ]
     },
     "metadata": {},
     "output_type": "display_data"
    },
    {
     "data": {
      "text/markdown": [
       "<span style=\"color:#33cc99\">Solution:</span> \n",
       "```python\n",
       "# Set the width and height of the figure\n",
       "plt.figure(figsize=(12,6))\n",
       "# Add title\n",
       "plt.title(\"Monthly Visitors to Avila Adobe\")\n",
       "# Line chart showing the number of visitors to Avila Adobe over time\n",
       "sns.lineplot(data=museum_data['Avila Adobe'])\n",
       "# Add label for horizontal axis\n",
       "plt.xlabel(\"Date\")\n",
       "\n",
       "```"
      ],
      "text/plain": [
       "Solution: \n",
       "```python\n",
       "# Set the width and height of the figure\n",
       "plt.figure(figsize=(12,6))\n",
       "# Add title\n",
       "plt.title(\"Monthly Visitors to Avila Adobe\")\n",
       "# Line chart showing the number of visitors to Avila Adobe over time\n",
       "sns.lineplot(data=museum_data['Avila Adobe'])\n",
       "# Add label for horizontal axis\n",
       "plt.xlabel(\"Date\")\n",
       "\n",
       "```"
      ]
     },
     "metadata": {},
     "output_type": "display_data"
    },
    {
     "data": {
      "image/png": "[encoded data removed]",
      "text/plain": [
       "<Figure size 864x432 with 1 Axes>"
      ]
     },
     "metadata": {
      "needs_background": "light"
     },
     "output_type": "display_data"
    }
   ],
   "source": [
    "# Lines below will give you a hint or solution code\n",
    "#step_4.a.hint()\n",
    "step_4.a.solution_plot()"
   ]
  },
  {
   "cell_type": "markdown",
   "id": "5cd67129",
   "metadata": {
    "papermill": {
     "duration": 0.008753,
     "end_time": "2022-06-24T16:00:43.337954",
     "exception": false,
     "start_time": "2022-06-24T16:00:43.329201",
     "status": "completed"
    },
    "tags": []
   },
   "source": [
    "#### Part B\n",
    "\n",
    "Does Avila Adobe get more visitors:\n",
    "- in September-February (in LA, the fall and winter months), or \n",
    "- in March-August (in LA, the spring and summer)?  \n",
    "\n",
    "Using this information, when should the museum staff additional seasonal employees?"
   ]
  },
  {
   "cell_type": "code",
   "execution_count": 12,
   "id": "c21acfcb",
   "metadata": {
    "execution": {
     "iopub.execute_input": "2022-06-24T16:00:43.358763Z",
     "iopub.status.busy": "2022-06-24T16:00:43.357964Z",
     "iopub.status.idle": "2022-06-24T16:00:43.363037Z",
     "shell.execute_reply": "2022-06-24T16:00:43.361860Z"
    },
    "papermill": {
     "duration": 0.018267,
     "end_time": "2022-06-24T16:00:43.365211",
     "exception": false,
     "start_time": "2022-06-24T16:00:43.346944",
     "status": "completed"
    },
    "tags": []
   },
   "outputs": [],
   "source": [
    "#step_4.b.hint()"
   ]
  },
  {
   "cell_type": "code",
   "execution_count": 13,
   "id": "ccc1bd2c",
   "metadata": {
    "execution": {
     "iopub.execute_input": "2022-06-24T16:00:43.383127Z",
     "iopub.status.busy": "2022-06-24T16:00:43.382707Z",
     "iopub.status.idle": "2022-06-24T16:00:43.390555Z",
     "shell.execute_reply": "2022-06-24T16:00:43.389713Z"
    },
    "papermill": {
     "duration": 0.021187,
     "end_time": "2022-06-24T16:00:43.394580",
     "exception": false,
     "start_time": "2022-06-24T16:00:43.373393",
     "status": "completed"
    },
    "tags": []
   },
   "outputs": [
    {
     "data": {
      "application/javascript": [
       "parent.postMessage({\"jupyterEvent\": \"custom.exercise_interaction\", \"data\": {\"interactionType\": 3, \"questionType\": 4, \"questionId\": \"4.2_ThinkAvila\", \"learnToolsVersion\": \"0.3.4\", \"valueTowardsCompletion\": 0.0, \"failureMessage\": \"\", \"exceptionClass\": \"\", \"trace\": \"\", \"outcomeType\": 4}}, \"*\")"
      ],
      "text/plain": [
       "<IPython.core.display.Javascript object>"
      ]
     },
     "metadata": {},
     "output_type": "display_data"
    },
    {
     "data": {
      "text/markdown": [
       "<span style=\"color:#33cc99\">Solution:</span> The line chart generally dips to relatively low values around the early part of each year (in December and January), and reaches its highest values in the middle of the year (especially around May and June).  Thus, Avila Adobe usually gets more visitors in March-August (or the spring and summer months).  With this in mind, Avila Adobe could definitely benefit from hiring more seasonal employees to help with the extra work in March-August (the spring and summer)!"
      ],
      "text/plain": [
       "Solution: The line chart generally dips to relatively low values around the early part of each year (in December and January), and reaches its highest values in the middle of the year (especially around May and June).  Thus, Avila Adobe usually gets more visitors in March-August (or the spring and summer months).  With this in mind, Avila Adobe could definitely benefit from hiring more seasonal employees to help with the extra work in March-August (the spring and summer)!"
      ]
     },
     "metadata": {},
     "output_type": "display_data"
    }
   ],
   "source": [
    "# Check your answer (Run this code cell to receive credit!)\n",
    "step_4.b.solution()"
   ]
  },
  {
   "cell_type": "markdown",
   "id": "2a61c16d",
   "metadata": {
    "papermill": {
     "duration": 0.008581,
     "end_time": "2022-06-24T16:00:43.413040",
     "exception": false,
     "start_time": "2022-06-24T16:00:43.404459",
     "status": "completed"
    },
    "tags": []
   },
   "source": [
    "# Keep going\n",
    "\n",
    "Move on to learn about **[bar charts and heatmaps](https://www.kaggle.com/alexisbcook/bar-charts-and-heatmaps)** with a new dataset!"
   ]
  },
  {
   "cell_type": "markdown",
   "id": "5f6bc0f2",
   "metadata": {
    "papermill": {
     "duration": 0.008969,
     "end_time": "2022-06-24T16:00:43.431583",
     "exception": false,
     "start_time": "2022-06-24T16:00:43.422614",
     "status": "completed"
    },
    "tags": []
   },
   "source": [
    "---\n",
    "\n",
    "\n",
    "\n",
    "\n",
    "*Have questions or comments? Visit the [course discussion forum](https://www.kaggle.com/learn/data-visualization/discussion) to chat with other learners.*"
   ]
  }
 ],
 "metadata": {
  "kernelspec": {
   "display_name": "Python 3",
   "language": "python",
   "name": "python3"
  },
  "language_info": {
   "codemirror_mode": {
    "name": "ipython",
    "version": 3
   },
   "file_extension": ".py",
   "mimetype": "text/x-python",
   "name": "python",
   "nbconvert_exporter": "python",
   "pygments_lexer": "ipython3",
   "version": "3.7.12"
  },
  "papermill": {
   "default_parameters": {},
   "duration": 12.466066,
   "end_time": "2022-06-24T16:00:44.162694",
   "environment_variables": {},
   "exception": null,
   "input_path": "__notebook__.ipynb",
   "output_path": "__notebook__.ipynb",
   "parameters": {},
   "start_time": "2022-06-24T16:00:31.696628",
   "version": "2.3.4"
  }
 },
 "nbformat": 4,
 "nbformat_minor": 5
}
