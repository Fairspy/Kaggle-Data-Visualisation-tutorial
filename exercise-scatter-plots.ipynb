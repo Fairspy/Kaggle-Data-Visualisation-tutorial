{
 "cells": [
  {
   "cell_type": "markdown",
   "id": "1ddaee18",
   "metadata": {
    "papermill": {
     "duration": 0.00798,
     "end_time": "2022-06-24T16:50:47.568866",
     "exception": false,
     "start_time": "2022-06-24T16:50:47.560886",
     "status": "completed"
    },
    "tags": []
   },
   "source": [
    "**This notebook is an exercise in the [Data Visualization](https://www.kaggle.com/learn/data-visualization) course.  You can reference the tutorial at [this link](https://www.kaggle.com/alexisbcook/scatter-plots).**\n",
    "\n",
    "---\n"
   ]
  },
  {
   "cell_type": "markdown",
   "id": "9e6ab87e",
   "metadata": {
    "papermill": {
     "duration": 0.006363,
     "end_time": "2022-06-24T16:50:47.582098",
     "exception": false,
     "start_time": "2022-06-24T16:50:47.575735",
     "status": "completed"
    },
    "tags": []
   },
   "source": [
    "In this exercise, you will use your new knowledge to propose a solution to a real-world scenario.  To succeed, you will need to import data into Python, answer questions using the data, and generate **scatter plots** to understand patterns in the data.\n",
    "\n",
    "## Scenario\n",
    "\n",
    "You work for a major candy producer, and your goal is to write a report that your company can use to guide the design of its next product.  Soon after starting your research, you stumble across this [very interesting dataset](https://fivethirtyeight.com/features/the-ultimate-halloween-candy-power-ranking/) containing results from a fun survey to crowdsource favorite candies.\n",
    "\n",
    "## Setup\n",
    "\n",
    "Run the next cell to import and configure the Python libraries that you need to complete the exercise."
   ]
  },
  {
   "cell_type": "code",
   "execution_count": 1,
   "id": "04bf7ec8",
   "metadata": {
    "execution": {
     "iopub.execute_input": "2022-06-24T16:50:47.597685Z",
     "iopub.status.busy": "2022-06-24T16:50:47.597073Z",
     "iopub.status.idle": "2022-06-24T16:50:48.890967Z",
     "shell.execute_reply": "2022-06-24T16:50:48.889237Z"
    },
    "papermill": {
     "duration": 1.3048,
     "end_time": "2022-06-24T16:50:48.893548",
     "exception": false,
     "start_time": "2022-06-24T16:50:47.588748",
     "status": "completed"
    },
    "tags": []
   },
   "outputs": [
    {
     "name": "stdout",
     "output_type": "stream",
     "text": [
      "Setup Complete\n"
     ]
    }
   ],
   "source": [
    "import pandas as pd\n",
    "pd.plotting.register_matplotlib_converters()\n",
    "import matplotlib.pyplot as plt\n",
    "%matplotlib inline\n",
    "import seaborn as sns\n",
    "print(\"Setup Complete\")"
   ]
  },
  {
   "cell_type": "markdown",
   "id": "c1e9af39",
   "metadata": {
    "papermill": {
     "duration": 0.006484,
     "end_time": "2022-06-24T16:50:48.906987",
     "exception": false,
     "start_time": "2022-06-24T16:50:48.900503",
     "status": "completed"
    },
    "tags": []
   },
   "source": [
    "The questions below will give you feedback on your work. Run the following cell to set up our feedback system."
   ]
  },
  {
   "cell_type": "code",
   "execution_count": 2,
   "id": "290f3cd2",
   "metadata": {
    "execution": {
     "iopub.execute_input": "2022-06-24T16:50:48.922495Z",
     "iopub.status.busy": "2022-06-24T16:50:48.922100Z",
     "iopub.status.idle": "2022-06-24T16:50:49.003632Z",
     "shell.execute_reply": "2022-06-24T16:50:49.002484Z"
    },
    "papermill": {
     "duration": 0.092326,
     "end_time": "2022-06-24T16:50:49.006227",
     "exception": false,
     "start_time": "2022-06-24T16:50:48.913901",
     "status": "completed"
    },
    "tags": []
   },
   "outputs": [
    {
     "name": "stdout",
     "output_type": "stream",
     "text": [
      "Setup Complete\n"
     ]
    }
   ],
   "source": [
    "# Set up code checking\n",
    "import os\n",
    "if not os.path.exists(\"../input/candy.csv\"):\n",
    "    os.symlink(\"../input/data-for-datavis/candy.csv\", \"../input/candy.csv\") \n",
    "from learntools.core import binder\n",
    "binder.bind(globals())\n",
    "from learntools.data_viz_to_coder.ex4 import *\n",
    "print(\"Setup Complete\")"
   ]
  },
  {
   "cell_type": "markdown",
   "id": "562ddacc",
   "metadata": {
    "papermill": {
     "duration": 0.006678,
     "end_time": "2022-06-24T16:50:49.020053",
     "exception": false,
     "start_time": "2022-06-24T16:50:49.013375",
     "status": "completed"
    },
    "tags": []
   },
   "source": [
    "## Step 1: Load the Data\n",
    "\n",
    "Read the candy data file into `candy_data`.  Use the `\"id\"` column to label the rows."
   ]
  },
  {
   "cell_type": "code",
   "execution_count": 3,
   "id": "fae2c95c",
   "metadata": {
    "execution": {
     "iopub.execute_input": "2022-06-24T16:50:49.035773Z",
     "iopub.status.busy": "2022-06-24T16:50:49.035332Z",
     "iopub.status.idle": "2022-06-24T16:50:49.052187Z",
     "shell.execute_reply": "2022-06-24T16:50:49.050894Z"
    },
    "papermill": {
     "duration": 0.027387,
     "end_time": "2022-06-24T16:50:49.054610",
     "exception": false,
     "start_time": "2022-06-24T16:50:49.027223",
     "status": "completed"
    },
    "tags": []
   },
   "outputs": [
    {
     "data": {
      "application/javascript": [
       "parent.postMessage({\"jupyterEvent\": \"custom.exercise_interaction\", \"data\": {\"outcomeType\": 1, \"valueTowardsCompletion\": 0.3333333333333333, \"interactionType\": 1, \"questionType\": 1, \"questionId\": \"1_LoadData\", \"learnToolsVersion\": \"0.3.4\", \"failureMessage\": \"\", \"exceptionClass\": \"\", \"trace\": \"\"}}, \"*\")"
      ],
      "text/plain": [
       "<IPython.core.display.Javascript object>"
      ]
     },
     "metadata": {},
     "output_type": "display_data"
    },
    {
     "data": {
      "text/markdown": [
       "<span style=\"color:#33cc33\">Correct</span>"
      ],
      "text/plain": [
       "Correct"
      ]
     },
     "metadata": {},
     "output_type": "display_data"
    }
   ],
   "source": [
    "# Path of the file to read\n",
    "candy_filepath = \"../input/candy.csv\"\n",
    "\n",
    "# Fill in the line below to read the file into a variable candy_data\n",
    "candy_data = pd.read_csv(candy_filepath, index_col = \"id\")\n",
    "\n",
    "# Run the line below with no changes to check that you've loaded the data correctly\n",
    "step_1.check()"
   ]
  },
  {
   "cell_type": "code",
   "execution_count": 4,
   "id": "7f205664",
   "metadata": {
    "execution": {
     "iopub.execute_input": "2022-06-24T16:50:49.071454Z",
     "iopub.status.busy": "2022-06-24T16:50:49.071021Z",
     "iopub.status.idle": "2022-06-24T16:50:49.075320Z",
     "shell.execute_reply": "2022-06-24T16:50:49.074339Z"
    },
    "papermill": {
     "duration": 0.014629,
     "end_time": "2022-06-24T16:50:49.077452",
     "exception": false,
     "start_time": "2022-06-24T16:50:49.062823",
     "status": "completed"
    },
    "tags": []
   },
   "outputs": [],
   "source": [
    "# Lines below will give you a hint or solution code\n",
    "#step_1.hint()\n",
    "#step_1.solution()"
   ]
  },
  {
   "cell_type": "markdown",
   "id": "cb87d435",
   "metadata": {
    "papermill": {
     "duration": 0.006971,
     "end_time": "2022-06-24T16:50:49.092293",
     "exception": false,
     "start_time": "2022-06-24T16:50:49.085322",
     "status": "completed"
    },
    "tags": []
   },
   "source": [
    "## Step 2: Review the data\n",
    "\n",
    "Use a Python command to print the first five rows of the data."
   ]
  },
  {
   "cell_type": "code",
   "execution_count": 5,
   "id": "243d608d",
   "metadata": {
    "execution": {
     "iopub.execute_input": "2022-06-24T16:50:49.108552Z",
     "iopub.status.busy": "2022-06-24T16:50:49.108187Z",
     "iopub.status.idle": "2022-06-24T16:50:49.129229Z",
     "shell.execute_reply": "2022-06-24T16:50:49.128072Z"
    },
    "papermill": {
     "duration": 0.032013,
     "end_time": "2022-06-24T16:50:49.131552",
     "exception": false,
     "start_time": "2022-06-24T16:50:49.099539",
     "status": "completed"
    },
    "tags": []
   },
   "outputs": [
    {
     "data": {
      "text/html": [
       "<div>\n",
       "<style scoped>\n",
       "    .dataframe tbody tr th:only-of-type {\n",
       "        vertical-align: middle;\n",
       "    }\n",
       "\n",
       "    .dataframe tbody tr th {\n",
       "        vertical-align: top;\n",
       "    }\n",
       "\n",
       "    .dataframe thead th {\n",
       "        text-align: right;\n",
       "    }\n",
       "</style>\n",
       "<table border=\"1\" class=\"dataframe\">\n",
       "  <thead>\n",
       "    <tr style=\"text-align: right;\">\n",
       "      <th></th>\n",
       "      <th>competitorname</th>\n",
       "      <th>chocolate</th>\n",
       "      <th>fruity</th>\n",
       "      <th>caramel</th>\n",
       "      <th>peanutyalmondy</th>\n",
       "      <th>nougat</th>\n",
       "      <th>crispedricewafer</th>\n",
       "      <th>hard</th>\n",
       "      <th>bar</th>\n",
       "      <th>pluribus</th>\n",
       "      <th>sugarpercent</th>\n",
       "      <th>pricepercent</th>\n",
       "      <th>winpercent</th>\n",
       "    </tr>\n",
       "    <tr>\n",
       "      <th>id</th>\n",
       "      <th></th>\n",
       "      <th></th>\n",
       "      <th></th>\n",
       "      <th></th>\n",
       "      <th></th>\n",
       "      <th></th>\n",
       "      <th></th>\n",
       "      <th></th>\n",
       "      <th></th>\n",
       "      <th></th>\n",
       "      <th></th>\n",
       "      <th></th>\n",
       "      <th></th>\n",
       "    </tr>\n",
       "  </thead>\n",
       "  <tbody>\n",
       "    <tr>\n",
       "      <th>0</th>\n",
       "      <td>100 Grand</td>\n",
       "      <td>Yes</td>\n",
       "      <td>No</td>\n",
       "      <td>Yes</td>\n",
       "      <td>No</td>\n",
       "      <td>No</td>\n",
       "      <td>Yes</td>\n",
       "      <td>No</td>\n",
       "      <td>Yes</td>\n",
       "      <td>No</td>\n",
       "      <td>0.732</td>\n",
       "      <td>0.860</td>\n",
       "      <td>66.971725</td>\n",
       "    </tr>\n",
       "    <tr>\n",
       "      <th>1</th>\n",
       "      <td>3 Musketeers</td>\n",
       "      <td>Yes</td>\n",
       "      <td>No</td>\n",
       "      <td>No</td>\n",
       "      <td>No</td>\n",
       "      <td>Yes</td>\n",
       "      <td>No</td>\n",
       "      <td>No</td>\n",
       "      <td>Yes</td>\n",
       "      <td>No</td>\n",
       "      <td>0.604</td>\n",
       "      <td>0.511</td>\n",
       "      <td>67.602936</td>\n",
       "    </tr>\n",
       "    <tr>\n",
       "      <th>2</th>\n",
       "      <td>Air Heads</td>\n",
       "      <td>No</td>\n",
       "      <td>Yes</td>\n",
       "      <td>No</td>\n",
       "      <td>No</td>\n",
       "      <td>No</td>\n",
       "      <td>No</td>\n",
       "      <td>No</td>\n",
       "      <td>No</td>\n",
       "      <td>No</td>\n",
       "      <td>0.906</td>\n",
       "      <td>0.511</td>\n",
       "      <td>52.341465</td>\n",
       "    </tr>\n",
       "    <tr>\n",
       "      <th>3</th>\n",
       "      <td>Almond Joy</td>\n",
       "      <td>Yes</td>\n",
       "      <td>No</td>\n",
       "      <td>No</td>\n",
       "      <td>Yes</td>\n",
       "      <td>No</td>\n",
       "      <td>No</td>\n",
       "      <td>No</td>\n",
       "      <td>Yes</td>\n",
       "      <td>No</td>\n",
       "      <td>0.465</td>\n",
       "      <td>0.767</td>\n",
       "      <td>50.347546</td>\n",
       "    </tr>\n",
       "    <tr>\n",
       "      <th>4</th>\n",
       "      <td>Baby Ruth</td>\n",
       "      <td>Yes</td>\n",
       "      <td>No</td>\n",
       "      <td>Yes</td>\n",
       "      <td>Yes</td>\n",
       "      <td>Yes</td>\n",
       "      <td>No</td>\n",
       "      <td>No</td>\n",
       "      <td>Yes</td>\n",
       "      <td>No</td>\n",
       "      <td>0.604</td>\n",
       "      <td>0.767</td>\n",
       "      <td>56.914547</td>\n",
       "    </tr>\n",
       "  </tbody>\n",
       "</table>\n",
       "</div>"
      ],
      "text/plain": [
       "   competitorname chocolate fruity caramel peanutyalmondy nougat  \\\n",
       "id                                                                 \n",
       "0       100 Grand       Yes     No     Yes             No     No   \n",
       "1    3 Musketeers       Yes     No      No             No    Yes   \n",
       "2       Air Heads        No    Yes      No             No     No   \n",
       "3      Almond Joy       Yes     No      No            Yes     No   \n",
       "4       Baby Ruth       Yes     No     Yes            Yes    Yes   \n",
       "\n",
       "   crispedricewafer hard  bar pluribus  sugarpercent  pricepercent  winpercent  \n",
       "id                                                                              \n",
       "0               Yes   No  Yes       No         0.732         0.860   66.971725  \n",
       "1                No   No  Yes       No         0.604         0.511   67.602936  \n",
       "2                No   No   No       No         0.906         0.511   52.341465  \n",
       "3                No   No  Yes       No         0.465         0.767   50.347546  \n",
       "4                No   No  Yes       No         0.604         0.767   56.914547  "
      ]
     },
     "execution_count": 5,
     "metadata": {},
     "output_type": "execute_result"
    }
   ],
   "source": [
    "# Print the first five rows of the data\n",
    "candy_data.head() # Your code here"
   ]
  },
  {
   "cell_type": "markdown",
   "id": "fe018bef",
   "metadata": {
    "papermill": {
     "duration": 0.007524,
     "end_time": "2022-06-24T16:50:49.146843",
     "exception": false,
     "start_time": "2022-06-24T16:50:49.139319",
     "status": "completed"
    },
    "tags": []
   },
   "source": [
    "The dataset contains 83 rows, where each corresponds to a different candy bar.  There are 13 columns:\n",
    "- `'competitorname'` contains the name of the candy bar. \n",
    "- the next **9** columns (from `'chocolate'` to `'pluribus'`) describe the candy.  For instance, rows with chocolate candies have `\"Yes\"` in the `'chocolate'` column (and candies without chocolate have `\"No\"` in the same column).\n",
    "- `'sugarpercent'` provides some indication of the amount of sugar, where higher values signify higher sugar content.\n",
    "- `'pricepercent'` shows the price per unit, relative to the other candies in the dataset.\n",
    "- `'winpercent'` is calculated from the survey results; higher values indicate that the candy was more popular with survey respondents.\n",
    "\n",
    "Use the first five rows of the data to answer the questions below."
   ]
  },
  {
   "cell_type": "code",
   "execution_count": 6,
   "id": "51200069",
   "metadata": {
    "execution": {
     "iopub.execute_input": "2022-06-24T16:50:49.164031Z",
     "iopub.status.busy": "2022-06-24T16:50:49.163264Z",
     "iopub.status.idle": "2022-06-24T16:50:49.172823Z",
     "shell.execute_reply": "2022-06-24T16:50:49.171690Z"
    },
    "papermill": {
     "duration": 0.020977,
     "end_time": "2022-06-24T16:50:49.175355",
     "exception": false,
     "start_time": "2022-06-24T16:50:49.154378",
     "status": "completed"
    },
    "tags": []
   },
   "outputs": [
    {
     "data": {
      "application/javascript": [
       "parent.postMessage({\"jupyterEvent\": \"custom.exercise_interaction\", \"data\": {\"outcomeType\": 1, \"valueTowardsCompletion\": 0.3333333333333333, \"interactionType\": 1, \"questionType\": 1, \"questionId\": \"2_ReviewData\", \"learnToolsVersion\": \"0.3.4\", \"failureMessage\": \"\", \"exceptionClass\": \"\", \"trace\": \"\"}}, \"*\")"
      ],
      "text/plain": [
       "<IPython.core.display.Javascript object>"
      ]
     },
     "metadata": {},
     "output_type": "display_data"
    },
    {
     "data": {
      "text/markdown": [
       "<span style=\"color:#33cc33\">Correct</span>"
      ],
      "text/plain": [
       "Correct"
      ]
     },
     "metadata": {},
     "output_type": "display_data"
    }
   ],
   "source": [
    "# Fill in the line below: Which candy was more popular with survey respondents:\n",
    "# '3 Musketeers' or 'Almond Joy'?  (Please enclose your answer in single quotes.)\n",
    "more_popular = '3 Musketeers'\n",
    "\n",
    "# Fill in the line below: Which candy has higher sugar content: 'Air Heads'\n",
    "# or 'Baby Ruth'? (Please enclose your answer in single quotes.)\n",
    "more_sugar = 'Air Heads'\n",
    "\n",
    "# Check your answers\n",
    "step_2.check()"
   ]
  },
  {
   "cell_type": "code",
   "execution_count": 7,
   "id": "6f59f032",
   "metadata": {
    "execution": {
     "iopub.execute_input": "2022-06-24T16:50:49.192998Z",
     "iopub.status.busy": "2022-06-24T16:50:49.192565Z",
     "iopub.status.idle": "2022-06-24T16:50:49.197336Z",
     "shell.execute_reply": "2022-06-24T16:50:49.196143Z"
    },
    "papermill": {
     "duration": 0.015862,
     "end_time": "2022-06-24T16:50:49.199516",
     "exception": false,
     "start_time": "2022-06-24T16:50:49.183654",
     "status": "completed"
    },
    "tags": []
   },
   "outputs": [],
   "source": [
    "# Lines below will give you a hint or solution code\n",
    "#step_2.hint()\n",
    "#step_2.solution()"
   ]
  },
  {
   "cell_type": "markdown",
   "id": "9e715dcf",
   "metadata": {
    "papermill": {
     "duration": 0.00727,
     "end_time": "2022-06-24T16:50:49.214466",
     "exception": false,
     "start_time": "2022-06-24T16:50:49.207196",
     "status": "completed"
    },
    "tags": []
   },
   "source": [
    "## Step 3: The role of sugar\n",
    "\n",
    "Do people tend to prefer candies with higher sugar content?  \n",
    "\n",
    "#### Part A\n",
    "\n",
    "Create a scatter plot that shows the relationship between `'sugarpercent'` (on the horizontal x-axis) and `'winpercent'` (on the vertical y-axis).  _Don't add a regression line just yet -- you'll do that in the next step!_"
   ]
  },
  {
   "cell_type": "code",
   "execution_count": 8,
   "id": "beb83793",
   "metadata": {
    "execution": {
     "iopub.execute_input": "2022-06-24T16:50:49.232052Z",
     "iopub.status.busy": "2022-06-24T16:50:49.231262Z",
     "iopub.status.idle": "2022-06-24T16:50:49.439586Z",
     "shell.execute_reply": "2022-06-24T16:50:49.437818Z"
    },
    "papermill": {
     "duration": 0.220236,
     "end_time": "2022-06-24T16:50:49.442349",
     "exception": false,
     "start_time": "2022-06-24T16:50:49.222113",
     "status": "completed"
    },
    "tags": []
   },
   "outputs": [
    {
     "data": {
      "application/javascript": [
       "parent.postMessage({\"jupyterEvent\": \"custom.exercise_interaction\", \"data\": {\"outcomeType\": 1, \"valueTowardsCompletion\": 0.3333333333333333, \"interactionType\": 1, \"questionType\": 2, \"questionId\": \"3.1_PlotBlueScatter\", \"learnToolsVersion\": \"0.3.4\", \"failureMessage\": \"\", \"exceptionClass\": \"\", \"trace\": \"\"}}, \"*\")"
      ],
      "text/plain": [
       "<IPython.core.display.Javascript object>"
      ]
     },
     "metadata": {},
     "output_type": "display_data"
    },
    {
     "data": {
      "text/markdown": [
       "<span style=\"color:#33cc33\">Correct</span>"
      ],
      "text/plain": [
       "Correct"
      ]
     },
     "metadata": {},
     "output_type": "display_data"
    },
    {
     "data": {
      "image/png": "[encoded data removed]",
      "text/plain": [
       "<Figure size 432x288 with 1 Axes>"
      ]
     },
     "metadata": {
      "needs_background": "light"
     },
     "output_type": "display_data"
    }
   ],
   "source": [
    "# Scatter plot showing the relationship between 'sugarpercent' and 'winpercent'\n",
    "sns.scatterplot(x = candy_data['sugarpercent'], y = candy_data['winpercent']) # Your code here\n",
    "\n",
    "# Check your answer\n",
    "step_3.a.check()"
   ]
  },
  {
   "cell_type": "code",
   "execution_count": 9,
   "id": "1b00a132",
   "metadata": {
    "execution": {
     "iopub.execute_input": "2022-06-24T16:50:49.461623Z",
     "iopub.status.busy": "2022-06-24T16:50:49.460506Z",
     "iopub.status.idle": "2022-06-24T16:50:49.467754Z",
     "shell.execute_reply": "2022-06-24T16:50:49.466064Z"
    },
    "papermill": {
     "duration": 0.020131,
     "end_time": "2022-06-24T16:50:49.470648",
     "exception": false,
     "start_time": "2022-06-24T16:50:49.450517",
     "status": "completed"
    },
    "tags": []
   },
   "outputs": [],
   "source": [
    "# Lines below will give you a hint or solution code\n",
    "#step_3.a.hint()\n",
    "#step_3.a.solution_plot()"
   ]
  },
  {
   "cell_type": "markdown",
   "id": "942ab619",
   "metadata": {
    "papermill": {
     "duration": 0.007789,
     "end_time": "2022-06-24T16:50:49.487037",
     "exception": false,
     "start_time": "2022-06-24T16:50:49.479248",
     "status": "completed"
    },
    "tags": []
   },
   "source": [
    "#### Part B\n",
    "\n",
    "Does the scatter plot show a **strong** correlation between the two variables?  If so, are candies with more sugar relatively more or less popular with the survey respondents?"
   ]
  },
  {
   "cell_type": "code",
   "execution_count": 10,
   "id": "382c7d65",
   "metadata": {
    "execution": {
     "iopub.execute_input": "2022-06-24T16:50:49.505526Z",
     "iopub.status.busy": "2022-06-24T16:50:49.504598Z",
     "iopub.status.idle": "2022-06-24T16:50:49.509646Z",
     "shell.execute_reply": "2022-06-24T16:50:49.508766Z"
    },
    "papermill": {
     "duration": 0.016595,
     "end_time": "2022-06-24T16:50:49.511871",
     "exception": false,
     "start_time": "2022-06-24T16:50:49.495276",
     "status": "completed"
    },
    "tags": []
   },
   "outputs": [],
   "source": [
    "#step_3.b.hint()"
   ]
  },
  {
   "cell_type": "code",
   "execution_count": 11,
   "id": "3c255b24",
   "metadata": {
    "execution": {
     "iopub.execute_input": "2022-06-24T16:50:49.530096Z",
     "iopub.status.busy": "2022-06-24T16:50:49.529475Z",
     "iopub.status.idle": "2022-06-24T16:50:49.536225Z",
     "shell.execute_reply": "2022-06-24T16:50:49.535444Z"
    },
    "papermill": {
     "duration": 0.018216,
     "end_time": "2022-06-24T16:50:49.538259",
     "exception": false,
     "start_time": "2022-06-24T16:50:49.520043",
     "status": "completed"
    },
    "tags": []
   },
   "outputs": [
    {
     "data": {
      "application/javascript": [
       "parent.postMessage({\"jupyterEvent\": \"custom.exercise_interaction\", \"data\": {\"interactionType\": 3, \"questionType\": 4, \"questionId\": \"3.2_ThinkBlueScatter\", \"learnToolsVersion\": \"0.3.4\", \"valueTowardsCompletion\": 0.0, \"failureMessage\": \"\", \"exceptionClass\": \"\", \"trace\": \"\", \"outcomeType\": 4}}, \"*\")"
      ],
      "text/plain": [
       "<IPython.core.display.Javascript object>"
      ]
     },
     "metadata": {},
     "output_type": "display_data"
    },
    {
     "data": {
      "text/markdown": [
       "<span style=\"color:#33cc99\">Solution:</span> The scatter plot does not show a strong correlation between the two variables. Since there is no clear relationship between the two variables, this tells us that sugar content does not play a strong role in candy popularity."
      ],
      "text/plain": [
       "Solution: The scatter plot does not show a strong correlation between the two variables. Since there is no clear relationship between the two variables, this tells us that sugar content does not play a strong role in candy popularity."
      ]
     },
     "metadata": {},
     "output_type": "display_data"
    }
   ],
   "source": [
    "# Check your answer (Run this code cell to receive credit!)\n",
    "step_3.b.solution()"
   ]
  },
  {
   "cell_type": "markdown",
   "id": "6916f968",
   "metadata": {
    "papermill": {
     "duration": 0.008434,
     "end_time": "2022-06-24T16:50:49.555083",
     "exception": false,
     "start_time": "2022-06-24T16:50:49.546649",
     "status": "completed"
    },
    "tags": []
   },
   "source": [
    "## Step 4: Take a closer look\n",
    "\n",
    "#### Part A\n",
    "\n",
    "Create the same scatter plot you created in **Step 3**, but now with a regression line!"
   ]
  },
  {
   "cell_type": "code",
   "execution_count": 12,
   "id": "0e4a82ff",
   "metadata": {
    "execution": {
     "iopub.execute_input": "2022-06-24T16:50:49.574424Z",
     "iopub.status.busy": "2022-06-24T16:50:49.573720Z",
     "iopub.status.idle": "2022-06-24T16:50:49.804963Z",
     "shell.execute_reply": "2022-06-24T16:50:49.804197Z"
    },
    "papermill": {
     "duration": 0.24454,
     "end_time": "2022-06-24T16:50:49.808001",
     "exception": false,
     "start_time": "2022-06-24T16:50:49.563461",
     "status": "completed"
    },
    "tags": []
   },
   "outputs": [
    {
     "data": {
      "application/javascript": [
       "parent.postMessage({\"jupyterEvent\": \"custom.exercise_interaction\", \"data\": {\"outcomeType\": 1, \"valueTowardsCompletion\": 0.3333333333333333, \"interactionType\": 1, \"questionType\": 2, \"questionId\": \"4.1_PlotBlueReg\", \"learnToolsVersion\": \"0.3.4\", \"failureMessage\": \"\", \"exceptionClass\": \"\", \"trace\": \"\"}}, \"*\")"
      ],
      "text/plain": [
       "<IPython.core.display.Javascript object>"
      ]
     },
     "metadata": {},
     "output_type": "display_data"
    },
    {
     "data": {
      "text/markdown": [
       "<span style=\"color:#33cc33\">Correct</span>"
      ],
      "text/plain": [
       "Correct"
      ]
     },
     "metadata": {},
     "output_type": "display_data"
    },
    {
     "data": {
      "image/png": "[encoded data removed]",
      "text/plain": [
       "<Figure size 432x288 with 1 Axes>"
      ]
     },
     "metadata": {
      "needs_background": "light"
     },
     "output_type": "display_data"
    }
   ],
   "source": [
    "# Scatter plot w/ regression line showing the relationship between 'sugarpercent' and 'winpercent'\n",
    "sns.regplot(x=candy_data['sugarpercent'],y=candy_data['winpercent']) # Your code here\n",
    "\n",
    "# Check your answer\n",
    "step_4.a.check()"
   ]
  },
  {
   "cell_type": "code",
   "execution_count": 13,
   "id": "cc3df211",
   "metadata": {
    "execution": {
     "iopub.execute_input": "2022-06-24T16:50:49.828128Z",
     "iopub.status.busy": "2022-06-24T16:50:49.827565Z",
     "iopub.status.idle": "2022-06-24T16:50:49.831106Z",
     "shell.execute_reply": "2022-06-24T16:50:49.830267Z"
    },
    "papermill": {
     "duration": 0.015618,
     "end_time": "2022-06-24T16:50:49.833208",
     "exception": false,
     "start_time": "2022-06-24T16:50:49.817590",
     "status": "completed"
    },
    "tags": []
   },
   "outputs": [],
   "source": [
    "# Lines below will give you a hint or solution code\n",
    "#step_4.a.hint()\n",
    "#step_4.a.solution_plot()"
   ]
  },
  {
   "cell_type": "markdown",
   "id": "030dec80",
   "metadata": {
    "papermill": {
     "duration": 0.008363,
     "end_time": "2022-06-24T16:50:49.850378",
     "exception": false,
     "start_time": "2022-06-24T16:50:49.842015",
     "status": "completed"
    },
    "tags": []
   },
   "source": [
    "#### Part B\n",
    "\n",
    "According to the plot above, is there a **slight** correlation between `'winpercent'` and `'sugarpercent'`?  What does this tell you about the candy that people tend to prefer?"
   ]
  },
  {
   "cell_type": "code",
   "execution_count": 14,
   "id": "56089d4e",
   "metadata": {
    "execution": {
     "iopub.execute_input": "2022-06-24T16:50:49.869668Z",
     "iopub.status.busy": "2022-06-24T16:50:49.869234Z",
     "iopub.status.idle": "2022-06-24T16:50:49.873585Z",
     "shell.execute_reply": "2022-06-24T16:50:49.872335Z"
    },
    "papermill": {
     "duration": 0.016765,
     "end_time": "2022-06-24T16:50:49.875875",
     "exception": false,
     "start_time": "2022-06-24T16:50:49.859110",
     "status": "completed"
    },
    "tags": []
   },
   "outputs": [],
   "source": [
    "#step_4.b.hint()"
   ]
  },
  {
   "cell_type": "code",
   "execution_count": 15,
   "id": "159bed61",
   "metadata": {
    "execution": {
     "iopub.execute_input": "2022-06-24T16:50:49.896554Z",
     "iopub.status.busy": "2022-06-24T16:50:49.896096Z",
     "iopub.status.idle": "2022-06-24T16:50:49.904446Z",
     "shell.execute_reply": "2022-06-24T16:50:49.903613Z"
    },
    "papermill": {
     "duration": 0.021273,
     "end_time": "2022-06-24T16:50:49.906426",
     "exception": false,
     "start_time": "2022-06-24T16:50:49.885153",
     "status": "completed"
    },
    "tags": []
   },
   "outputs": [
    {
     "data": {
      "application/javascript": [
       "parent.postMessage({\"jupyterEvent\": \"custom.exercise_interaction\", \"data\": {\"interactionType\": 3, \"questionType\": 4, \"questionId\": \"4.2_ThinkBlueReg\", \"learnToolsVersion\": \"0.3.4\", \"valueTowardsCompletion\": 0.0, \"failureMessage\": \"\", \"exceptionClass\": \"\", \"trace\": \"\", \"outcomeType\": 4}}, \"*\")"
      ],
      "text/plain": [
       "<IPython.core.display.Javascript object>"
      ]
     },
     "metadata": {},
     "output_type": "display_data"
    },
    {
     "data": {
      "text/markdown": [
       "<span style=\"color:#33cc99\">Solution:</span> Since the regression line has a slightly positive slope, this tells us that there is a slightly positive correlation between `'winpercent'` and `'sugarpercent'`. Thus, people have a slight preference for candies containing relatively more sugar."
      ],
      "text/plain": [
       "Solution: Since the regression line has a slightly positive slope, this tells us that there is a slightly positive correlation between `'winpercent'` and `'sugarpercent'`. Thus, people have a slight preference for candies containing relatively more sugar."
      ]
     },
     "metadata": {},
     "output_type": "display_data"
    }
   ],
   "source": [
    "# Check your answer (Run this code cell to receive credit!)\n",
    "step_4.b.solution()"
   ]
  },
  {
   "cell_type": "markdown",
   "id": "b2090859",
   "metadata": {
    "papermill": {
     "duration": 0.009499,
     "end_time": "2022-06-24T16:50:49.925386",
     "exception": false,
     "start_time": "2022-06-24T16:50:49.915887",
     "status": "completed"
    },
    "tags": []
   },
   "source": [
    "## Step 5: Chocolate!\n",
    "\n",
    "In the code cell below, create a scatter plot to show the relationship between `'pricepercent'` (on the horizontal x-axis) and `'winpercent'` (on the vertical y-axis). Use the `'chocolate'` column to color-code the points.  _Don't add any regression lines just yet -- you'll do that in the next step!_"
   ]
  },
  {
   "cell_type": "code",
   "execution_count": 16,
   "id": "8fb73b1a",
   "metadata": {
    "execution": {
     "iopub.execute_input": "2022-06-24T16:50:49.946199Z",
     "iopub.status.busy": "2022-06-24T16:50:49.945179Z",
     "iopub.status.idle": "2022-06-24T16:50:50.190348Z",
     "shell.execute_reply": "2022-06-24T16:50:50.189510Z"
    },
    "papermill": {
     "duration": 0.257824,
     "end_time": "2022-06-24T16:50:50.192602",
     "exception": false,
     "start_time": "2022-06-24T16:50:49.934778",
     "status": "completed"
    },
    "tags": []
   },
   "outputs": [
    {
     "data": {
      "application/javascript": [
       "parent.postMessage({\"jupyterEvent\": \"custom.exercise_interaction\", \"data\": {\"outcomeType\": 1, \"valueTowardsCompletion\": 0.3333333333333333, \"interactionType\": 1, \"questionType\": 2, \"questionId\": \"5_ColorScatter\", \"learnToolsVersion\": \"0.3.4\", \"failureMessage\": \"\", \"exceptionClass\": \"\", \"trace\": \"\"}}, \"*\")"
      ],
      "text/plain": [
       "<IPython.core.display.Javascript object>"
      ]
     },
     "metadata": {},
     "output_type": "display_data"
    },
    {
     "data": {
      "text/markdown": [
       "<span style=\"color:#33cc33\">Correct</span>"
      ],
      "text/plain": [
       "Correct"
      ]
     },
     "metadata": {},
     "output_type": "display_data"
    },
    {
     "data": {
      "image/png": "[encoded data removed]",
      "text/plain": [
       "<Figure size 432x288 with 1 Axes>"
      ]
     },
     "metadata": {
      "needs_background": "light"
     },
     "output_type": "display_data"
    }
   ],
   "source": [
    "# Scatter plot showing the relationship between 'pricepercent', 'winpercent', and 'chocolate'\n",
    "sns.scatterplot(x=candy_data['pricepercent'],y = candy_data['winpercent'],hue = candy_data['chocolate']) # Your code here\n",
    "\n",
    "# Check your answer\n",
    "step_5.check()"
   ]
  },
  {
   "cell_type": "code",
   "execution_count": 17,
   "id": "eea8ca7e",
   "metadata": {
    "execution": {
     "iopub.execute_input": "2022-06-24T16:50:50.214291Z",
     "iopub.status.busy": "2022-06-24T16:50:50.213734Z",
     "iopub.status.idle": "2022-06-24T16:50:50.217964Z",
     "shell.execute_reply": "2022-06-24T16:50:50.216899Z"
    },
    "papermill": {
     "duration": 0.017776,
     "end_time": "2022-06-24T16:50:50.220270",
     "exception": false,
     "start_time": "2022-06-24T16:50:50.202494",
     "status": "completed"
    },
    "tags": []
   },
   "outputs": [],
   "source": [
    "# Lines below will give you a hint or solution code\n",
    "#step_5.hint()\n",
    "#step_5.solution_plot()"
   ]
  },
  {
   "cell_type": "markdown",
   "id": "b1d52841",
   "metadata": {
    "papermill": {
     "duration": 0.00919,
     "end_time": "2022-06-24T16:50:50.239153",
     "exception": false,
     "start_time": "2022-06-24T16:50:50.229963",
     "status": "completed"
    },
    "tags": []
   },
   "source": [
    "Can you see any interesting patterns in the scatter plot?  We'll investigate this plot further  by adding regression lines in the next step!\n",
    "\n",
    "## Step 6: Investigate chocolate\n",
    "\n",
    "#### Part A\n",
    "\n",
    "Create the same scatter plot you created in **Step 5**, but now with two regression lines, corresponding to (1) chocolate candies and (2) candies without chocolate."
   ]
  },
  {
   "cell_type": "code",
   "execution_count": 18,
   "id": "dd0c1d03",
   "metadata": {
    "execution": {
     "iopub.execute_input": "2022-06-24T16:50:50.259921Z",
     "iopub.status.busy": "2022-06-24T16:50:50.259560Z",
     "iopub.status.idle": "2022-06-24T16:50:50.769855Z",
     "shell.execute_reply": "2022-06-24T16:50:50.769128Z"
    },
    "papermill": {
     "duration": 0.523354,
     "end_time": "2022-06-24T16:50:50.771994",
     "exception": false,
     "start_time": "2022-06-24T16:50:50.248640",
     "status": "completed"
    },
    "tags": []
   },
   "outputs": [
    {
     "data": {
      "application/javascript": [
       "parent.postMessage({\"jupyterEvent\": \"custom.exercise_interaction\", \"data\": {\"outcomeType\": 1, \"valueTowardsCompletion\": 0.3333333333333333, \"interactionType\": 1, \"questionType\": 2, \"questionId\": \"6.1_PlotColorReg\", \"learnToolsVersion\": \"0.3.4\", \"failureMessage\": \"\", \"exceptionClass\": \"\", \"trace\": \"\"}}, \"*\")"
      ],
      "text/plain": [
       "<IPython.core.display.Javascript object>"
      ]
     },
     "metadata": {},
     "output_type": "display_data"
    },
    {
     "data": {
      "text/markdown": [
       "<span style=\"color:#33cc33\">Correct</span>"
      ],
      "text/plain": [
       "Correct"
      ]
     },
     "metadata": {},
     "output_type": "display_data"
    },
    {
     "data": {
      "image/png": "[encoded data removed]",
      "text/plain": [
       "<Figure size 416.375x360 with 1 Axes>"
      ]
     },
     "metadata": {
      "needs_background": "light"
     },
     "output_type": "display_data"
    }
   ],
   "source": [
    "# Color-coded scatter plot w/ regression lines\n",
    "sns.lmplot(x=\"pricepercent\", y =\"winpercent\",hue = \"chocolate\", data = candy_data) # Your code here\n",
    "\n",
    "# Check your answer\n",
    "step_6.a.check()"
   ]
  },
  {
   "cell_type": "code",
   "execution_count": 19,
   "id": "61a2087b",
   "metadata": {
    "execution": {
     "iopub.execute_input": "2022-06-24T16:50:50.794887Z",
     "iopub.status.busy": "2022-06-24T16:50:50.794304Z",
     "iopub.status.idle": "2022-06-24T16:50:50.797985Z",
     "shell.execute_reply": "2022-06-24T16:50:50.797194Z"
    },
    "papermill": {
     "duration": 0.017663,
     "end_time": "2022-06-24T16:50:50.799976",
     "exception": false,
     "start_time": "2022-06-24T16:50:50.782313",
     "status": "completed"
    },
    "tags": []
   },
   "outputs": [],
   "source": [
    "# Lines below will give you a hint or solution code\n",
    "#step_6.a.hint()\n",
    "#step_6.a.solution_plot()"
   ]
  },
  {
   "cell_type": "markdown",
   "id": "0ddfa348",
   "metadata": {
    "papermill": {
     "duration": 0.009832,
     "end_time": "2022-06-24T16:50:50.819962",
     "exception": false,
     "start_time": "2022-06-24T16:50:50.810130",
     "status": "completed"
    },
    "tags": []
   },
   "source": [
    "#### Part B\n",
    "\n",
    "Using the regression lines, what conclusions can you draw about the effects of chocolate and price on candy popularity?"
   ]
  },
  {
   "cell_type": "code",
   "execution_count": 20,
   "id": "49643fc9",
   "metadata": {
    "execution": {
     "iopub.execute_input": "2022-06-24T16:50:50.842454Z",
     "iopub.status.busy": "2022-06-24T16:50:50.841857Z",
     "iopub.status.idle": "2022-06-24T16:50:50.845337Z",
     "shell.execute_reply": "2022-06-24T16:50:50.844573Z"
    },
    "papermill": {
     "duration": 0.017336,
     "end_time": "2022-06-24T16:50:50.847349",
     "exception": false,
     "start_time": "2022-06-24T16:50:50.830013",
     "status": "completed"
    },
    "tags": []
   },
   "outputs": [],
   "source": [
    "#step_6.b.hint()"
   ]
  },
  {
   "cell_type": "code",
   "execution_count": 21,
   "id": "81e9772c",
   "metadata": {
    "execution": {
     "iopub.execute_input": "2022-06-24T16:50:50.870716Z",
     "iopub.status.busy": "2022-06-24T16:50:50.870285Z",
     "iopub.status.idle": "2022-06-24T16:50:50.877169Z",
     "shell.execute_reply": "2022-06-24T16:50:50.876372Z"
    },
    "papermill": {
     "duration": 0.021087,
     "end_time": "2022-06-24T16:50:50.879087",
     "exception": false,
     "start_time": "2022-06-24T16:50:50.858000",
     "status": "completed"
    },
    "tags": []
   },
   "outputs": [
    {
     "data": {
      "application/javascript": [
       "parent.postMessage({\"jupyterEvent\": \"custom.exercise_interaction\", \"data\": {\"interactionType\": 3, \"questionType\": 4, \"questionId\": \"6.2_ThinkColorReg\", \"learnToolsVersion\": \"0.3.4\", \"valueTowardsCompletion\": 0.0, \"failureMessage\": \"\", \"exceptionClass\": \"\", \"trace\": \"\", \"outcomeType\": 4}}, \"*\")"
      ],
      "text/plain": [
       "<IPython.core.display.Javascript object>"
      ]
     },
     "metadata": {},
     "output_type": "display_data"
    },
    {
     "data": {
      "text/markdown": [
       "<span style=\"color:#33cc99\">Solution:</span> We'll begin with the regression line for chocolate candies. Since this line has a slightly positive slope, we can say that more expensive chocolate candies tend to be more popular (than relatively cheaper chocolate candies).  Likewise, since the regression line for candies without chocolate has a negative slope, we can say that if candies don't contain chocolate, they tend to be more popular when they are cheaper.  One important note, however, is that the dataset is quite small -- so we shouldn't invest too much trust in these patterns!  To inspire more confidence in the results, we should add more candies to the dataset."
      ],
      "text/plain": [
       "Solution: We'll begin with the regression line for chocolate candies. Since this line has a slightly positive slope, we can say that more expensive chocolate candies tend to be more popular (than relatively cheaper chocolate candies).  Likewise, since the regression line for candies without chocolate has a negative slope, we can say that if candies don't contain chocolate, they tend to be more popular when they are cheaper.  One important note, however, is that the dataset is quite small -- so we shouldn't invest too much trust in these patterns!  To inspire more confidence in the results, we should add more candies to the dataset."
      ]
     },
     "metadata": {},
     "output_type": "display_data"
    }
   ],
   "source": [
    "# Check your answer (Run this code cell to receive credit!)\n",
    "step_6.b.solution()"
   ]
  },
  {
   "cell_type": "markdown",
   "id": "7409c974",
   "metadata": {
    "papermill": {
     "duration": 0.010157,
     "end_time": "2022-06-24T16:50:50.899735",
     "exception": false,
     "start_time": "2022-06-24T16:50:50.889578",
     "status": "completed"
    },
    "tags": []
   },
   "source": [
    "## Step 7: Everybody loves chocolate.\n",
    "\n",
    "#### Part A\n",
    "\n",
    "Create a categorical scatter plot to highlight the relationship between `'chocolate'` and `'winpercent'`.  Put `'chocolate'` on the (horizontal) x-axis, and `'winpercent'` on the (vertical) y-axis."
   ]
  },
  {
   "cell_type": "code",
   "execution_count": 22,
   "id": "b7e9ba32",
   "metadata": {
    "execution": {
     "iopub.execute_input": "2022-06-24T16:50:50.924436Z",
     "iopub.status.busy": "2022-06-24T16:50:50.923686Z",
     "iopub.status.idle": "2022-06-24T16:50:51.052788Z",
     "shell.execute_reply": "2022-06-24T16:50:51.051663Z"
    },
    "papermill": {
     "duration": 0.145691,
     "end_time": "2022-06-24T16:50:51.056387",
     "exception": false,
     "start_time": "2022-06-24T16:50:50.910696",
     "status": "completed"
    },
    "tags": []
   },
   "outputs": [
    {
     "data": {
      "application/javascript": [
       "parent.postMessage({\"jupyterEvent\": \"custom.exercise_interaction\", \"data\": {\"outcomeType\": 1, \"valueTowardsCompletion\": 0.3333333333333333, \"interactionType\": 1, \"questionType\": 2, \"questionId\": \"7.1_PlotSwarm\", \"learnToolsVersion\": \"0.3.4\", \"failureMessage\": \"\", \"exceptionClass\": \"\", \"trace\": \"\"}}, \"*\")"
      ],
      "text/plain": [
       "<IPython.core.display.Javascript object>"
      ]
     },
     "metadata": {},
     "output_type": "display_data"
    },
    {
     "data": {
      "text/markdown": [
       "<span style=\"color:#33cc33\">Correct</span>"
      ],
      "text/plain": [
       "Correct"
      ]
     },
     "metadata": {},
     "output_type": "display_data"
    },
    {
     "data": {
      "image/png": "[encoded data removed]",
      "text/plain": [
       "<Figure size 432x288 with 1 Axes>"
      ]
     },
     "metadata": {
      "needs_background": "light"
     },
     "output_type": "display_data"
    }
   ],
   "source": [
    "# Scatter plot showing the relationship between 'chocolate' and 'winpercent'\n",
    "sns.swarmplot(x = candy_data['chocolate'], y=candy_data['winpercent']) # Your code here\n",
    "\n",
    "# Check your answer\n",
    "step_7.a.check()"
   ]
  },
  {
   "cell_type": "code",
   "execution_count": 23,
   "id": "6bfe46a8",
   "metadata": {
    "execution": {
     "iopub.execute_input": "2022-06-24T16:50:51.098895Z",
     "iopub.status.busy": "2022-06-24T16:50:51.097946Z",
     "iopub.status.idle": "2022-06-24T16:50:51.104161Z",
     "shell.execute_reply": "2022-06-24T16:50:51.102843Z"
    },
    "papermill": {
     "duration": 0.027429,
     "end_time": "2022-06-24T16:50:51.106800",
     "exception": false,
     "start_time": "2022-06-24T16:50:51.079371",
     "status": "completed"
    },
    "tags": []
   },
   "outputs": [],
   "source": [
    "# Lines below will give you a hint or solution code\n",
    "#step_7.a.hint()\n",
    "#step_7.a.solution_plot()"
   ]
  },
  {
   "cell_type": "markdown",
   "id": "b5813669",
   "metadata": {
    "papermill": {
     "duration": 0.011128,
     "end_time": "2022-06-24T16:50:51.129749",
     "exception": false,
     "start_time": "2022-06-24T16:50:51.118621",
     "status": "completed"
    },
    "tags": []
   },
   "source": [
    "#### Part B\n",
    "\n",
    "You decide to dedicate a section of your report to the fact that chocolate candies tend to be more popular than candies without chocolate.  Which plot is more appropriate to tell this story: the plot from **Step 6**, or the plot from **Step 7**?"
   ]
  },
  {
   "cell_type": "code",
   "execution_count": 24,
   "id": "fee82397",
   "metadata": {
    "execution": {
     "iopub.execute_input": "2022-06-24T16:50:51.153378Z",
     "iopub.status.busy": "2022-06-24T16:50:51.152983Z",
     "iopub.status.idle": "2022-06-24T16:50:51.157828Z",
     "shell.execute_reply": "2022-06-24T16:50:51.156442Z"
    },
    "papermill": {
     "duration": 0.019306,
     "end_time": "2022-06-24T16:50:51.160151",
     "exception": false,
     "start_time": "2022-06-24T16:50:51.140845",
     "status": "completed"
    },
    "tags": []
   },
   "outputs": [],
   "source": [
    "#step_7.b.hint()"
   ]
  },
  {
   "cell_type": "code",
   "execution_count": 25,
   "id": "1c40178a",
   "metadata": {
    "execution": {
     "iopub.execute_input": "2022-06-24T16:50:51.184201Z",
     "iopub.status.busy": "2022-06-24T16:50:51.183849Z",
     "iopub.status.idle": "2022-06-24T16:50:51.191801Z",
     "shell.execute_reply": "2022-06-24T16:50:51.190730Z"
    },
    "papermill": {
     "duration": 0.022597,
     "end_time": "2022-06-24T16:50:51.193760",
     "exception": false,
     "start_time": "2022-06-24T16:50:51.171163",
     "status": "completed"
    },
    "tags": []
   },
   "outputs": [
    {
     "data": {
      "application/javascript": [
       "parent.postMessage({\"jupyterEvent\": \"custom.exercise_interaction\", \"data\": {\"interactionType\": 3, \"questionType\": 4, \"questionId\": \"7.2_ThinkSwarm\", \"learnToolsVersion\": \"0.3.4\", \"valueTowardsCompletion\": 0.0, \"failureMessage\": \"\", \"exceptionClass\": \"\", \"trace\": \"\", \"outcomeType\": 4}}, \"*\")"
      ],
      "text/plain": [
       "<IPython.core.display.Javascript object>"
      ]
     },
     "metadata": {},
     "output_type": "display_data"
    },
    {
     "data": {
      "text/markdown": [
       "<span style=\"color:#33cc99\">Solution:</span> In this case, the categorical scatter plot from **Step 7** is the more appropriate plot. While both plots tell the desired story, the plot from **Step 6** conveys far more information that could distract from the main point."
      ],
      "text/plain": [
       "Solution: In this case, the categorical scatter plot from **Step 7** is the more appropriate plot. While both plots tell the desired story, the plot from **Step 6** conveys far more information that could distract from the main point."
      ]
     },
     "metadata": {},
     "output_type": "display_data"
    }
   ],
   "source": [
    "# Check your answer (Run this code cell to receive credit!)\n",
    "step_7.b.solution()"
   ]
  },
  {
   "cell_type": "markdown",
   "id": "9189778a",
   "metadata": {
    "papermill": {
     "duration": 0.010772,
     "end_time": "2022-06-24T16:50:51.215748",
     "exception": false,
     "start_time": "2022-06-24T16:50:51.204976",
     "status": "completed"
    },
    "tags": []
   },
   "source": [
    "## Keep going\n",
    "\n",
    "Explore **[histograms and density plots](https://www.kaggle.com/alexisbcook/distributions)**."
   ]
  },
  {
   "cell_type": "markdown",
   "id": "aef78852",
   "metadata": {
    "papermill": {
     "duration": 0.011536,
     "end_time": "2022-06-24T16:50:51.238467",
     "exception": false,
     "start_time": "2022-06-24T16:50:51.226931",
     "status": "completed"
    },
    "tags": []
   },
   "source": [
    "---\n",
    "\n",
    "\n",
    "\n",
    "\n",
    "*Have questions or comments? Visit the [course discussion forum](https://www.kaggle.com/learn/data-visualization/discussion) to chat with other learners.*"
   ]
  }
 ],
 "metadata": {
  "kernelspec": {
   "display_name": "Python 3",
   "language": "python",
   "name": "python3"
  },
  "language_info": {
   "codemirror_mode": {
    "name": "ipython",
    "version": 3
   },
   "file_extension": ".py",
   "mimetype": "text/x-python",
   "name": "python",
   "nbconvert_exporter": "python",
   "pygments_lexer": "ipython3",
   "version": "3.7.12"
  },
  "papermill": {
   "default_parameters": {},
   "duration": 14.057953,
   "end_time": "2022-06-24T16:50:51.972186",
   "environment_variables": {},
   "exception": null,
   "input_path": "__notebook__.ipynb",
   "output_path": "__notebook__.ipynb",
   "parameters": {},
   "start_time": "2022-06-24T16:50:37.914233",
   "version": "2.3.4"
  }
 },
 "nbformat": 4,
 "nbformat_minor": 5
}
